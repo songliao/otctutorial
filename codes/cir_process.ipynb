{
 "cells": [
  {
   "cell_type": "markdown",
   "id": "ab1fa87a",
   "metadata": {},
   "source": [
    "历史波动率计算方法\n",
    "\n",
    "标的价格收盘价时序数据 $P_i$, $i=0,1,...,N$， 其时间间隔为$\\Delta t$，一般取每交易日收盘价，$\\Delta t$ 即 1/年交易天数，在本例中我们取 $\\Delta t= \\frac{1}{242}$\n",
    "\n",
    "对数收益率 $r_i = \\ln\\frac{P_i}{P_{i-1}} $, $i = 1,..., N$\n",
    "\n",
    "以$m$日窗口计算历史波动率(方差)序列\n",
    "\n",
    "$$\n",
    "\\sigma_i^2 =\\frac{\\Delta t}{m} \\sum_{j=m(i-1)+1}^{j=mi}r_j^2\n",
    "$$\n",
    "\n",
    "其中 $i=1,..., \\lfloor N/m \\rfloor $, $\\lfloor N/m \\rfloor $ 表示不超过 $N/m$ 的整数。\n",
    "\n",
    "💡 tip\n",
    "在本例中我们用方差作为我们要研究的随机样本序列，一个显而易见的原因是方差是波动率的平方，平方后，可以有效平抑极端值对均值等统计指标的影响，\n",
    "\n",
    "$\\sqrt{a^2 + b^2} < a + b, \\forall a,b >0$\n",
    "\n"
   ]
  },
  {
   "cell_type": "markdown",
   "id": "784363c1",
   "metadata": {},
   "source": []
  },
  {
   "cell_type": "code",
   "execution_count": null,
   "id": "c727f7bd",
   "metadata": {},
   "outputs": [],
   "source": []
  }
 ],
 "metadata": {
  "kernelspec": {
   "display_name": "fleet",
   "language": "python",
   "name": "python3"
  },
  "language_info": {
   "name": "python",
   "version": "3.12.11"
  }
 },
 "nbformat": 4,
 "nbformat_minor": 5
}
